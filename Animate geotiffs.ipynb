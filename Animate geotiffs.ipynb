{
 "cells": [
  {
   "cell_type": "code",
   "execution_count": 1,
   "metadata": {},
   "outputs": [],
   "source": [
    "import imageio\n",
    "import glob\n",
    "import os"
   ]
  },
  {
   "cell_type": "markdown",
   "metadata": {},
   "source": [
    "If you are using whole images:"
   ]
  },
  {
   "cell_type": "code",
   "execution_count": 9,
   "metadata": {},
   "outputs": [],
   "source": [
    "# path to the tifs (also works with jpegs)\n",
    "tif_dir = os.path.join('C:\\\\','Users','Cate','RnD','Animations','imagery','geotiff')\n",
    "\n",
    "# get list of images (note that the filenames should be dated so they create a chronological list, otherwise they will \n",
    "# need sorting)\n",
    "filenames = glob.glob(os.path.join(tif_dir,'*.tif'))\n",
    "images = []\n",
    "\n",
    "# make gif using whole image\n",
    "for filename in filenames:\n",
    "    images.append(imageio.imread(filename))\n",
    "imageio.mimsave('exeter_timelapse.gif', images)"
   ]
  },
  {
   "cell_type": "markdown",
   "metadata": {},
   "source": [
    "If you want to subset the image with a shapefile first:"
   ]
  },
  {
   "cell_type": "code",
   "execution_count": 14,
   "metadata": {},
   "outputs": [],
   "source": [
    "import fiona\n",
    "import rasterio\n",
    "import rasterio.mask\n",
    "\n",
    "shapefile_path = os.path.join('C:\\\\','Users','Cate','RnD','Animations','subset.shp')\n",
    "\n",
    "\n",
    "# open the shapefile\n",
    "with fiona.open(shapefile_path, \"r\") as shapefile:\n",
    "    features = [feature[\"geometry\"] for feature in shapefile]\n",
    "\n",
    "# open the original tif\n",
    "for image in glob.glob(os.path.join(tif_dir,'*.tif')):\n",
    "    \n",
    "    image_filename = image[-21:-4]\n",
    "    out_filename = image_filename + '_subset.tif'\n",
    "    \n",
    "    # get subset\n",
    "    with rasterio.open(image) as src:\n",
    "        out_image, out_transform = rasterio.mask.mask(src, features,\n",
    "                                                        crop=True)\n",
    "        out_meta = src.meta.copy()\n",
    "        out_meta.update({\"driver\": \"GTiff\",\n",
    "                 \"height\": out_image.shape[1],\n",
    "                 \"width\": out_image.shape[2],\n",
    "                 \"transform\": out_transform})\n",
    "        \n",
    "    # write new geotiff\n",
    "    with rasterio.open(os.path.join(tif_dir, 'subsets', out_filename), 'w', **out_meta) as dest:\n",
    "        dest.write(out_image)\n",
    "        \n",
    "# path to the tifs (also works with jpegs)\n",
    "tif_dir = os.path.join('C:\\\\','Users','Cate','RnD','Animations','imagery','geotiff')\n",
    "\n",
    "# get list of images\n",
    "filenames = glob.glob(os.path.join(tif_dir, 'subsets', '*.tif'))\n",
    "images = []\n",
    "\n",
    "# make gif using whole image\n",
    "for filename in filenames:\n",
    "    images.append(imageio.imread(filename))\n",
    "imageio.mimsave('exeter_timelapse2.gif', images)"
   ]
  }
 ],
 "metadata": {
  "kernelspec": {
   "display_name": "Python 3",
   "language": "python",
   "name": "python3"
  },
  "language_info": {
   "codemirror_mode": {
    "name": "ipython",
    "version": 3
   },
   "file_extension": ".py",
   "mimetype": "text/x-python",
   "name": "python",
   "nbconvert_exporter": "python",
   "pygments_lexer": "ipython3",
   "version": "3.6.3"
  }
 },
 "nbformat": 4,
 "nbformat_minor": 2
}
